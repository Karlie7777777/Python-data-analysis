{
 "cells": [
  {
   "cell_type": "markdown",
   "metadata": {},
   "source": [
    "# Final Project\n",
    "\n",
    "You will be asked to download data by yourselves and answer several data science questions through this final project. This project has two parts.\n",
    "\n",
    "\n",
    "## Part 1 (15 Points):\n",
    "\n",
    "This part contains 10 different data science questions that you are asked to answer. You need to download the corresponding data and write code to process the data to answer these questions. For each question, you need to provide your code to anser this question, as well as final answers. Each question will be worth 1.5 points in this part. \n",
    "\n",
    "\n",
    "## Final Submission:\n",
    "\n",
    "Your final submission will contain two files:\n",
    "\n",
    "1. The first would be this notebook. You need to provide code for your answers as well as your answers. You also need to provide visualization and executive summary using Markdown in this notebook. \n",
    "\n",
    "2. The second is the html version of this notebook. \n"
   ]
  },
  {
   "cell_type": "markdown",
   "metadata": {},
   "source": [
    "## Part 1\n",
    "\n",
    "First, you need to download the most recent datasets containing listing and reviews in **Los Angeles** from [insidearibnb.com](http://insideairbnb.com/get-the-data.html). (September,2019,detailed data)You will then need to provide the code as well as answers to the following questions.\n",
    "\n",
    "**To make sure that you downloaded the right dataset, your solution to Question 1 should be:**\n",
    "1. **Number of unique listings = 45053**\n",
    "2. **Number of unique hosts = 26286**"
   ]
  },
  {
   "cell_type": "markdown",
   "metadata": {},
   "source": [
    "### Question 1: How many unique listings are there in the LA dataset? How many unique hosts are there?\n",
    "**Question 1 Answer:**\n",
    "\n",
    "1. Number of unique listings = 45053\n",
    "2. Number of unique hosts = 26286"
   ]
  },
  {
   "cell_type": "code",
   "execution_count": 2,
   "metadata": {},
   "outputs": [
    {
     "name": "stderr",
     "output_type": "stream",
     "text": [
      "//anaconda3/lib/python3.7/site-packages/IPython/core/interactiveshell.py:3057: DtypeWarning: Columns (61,62) have mixed types. Specify dtype option on import or set low_memory=False.\n",
      "  interactivity=interactivity, compiler=compiler, result=result)\n"
     ]
    },
    {
     "data": {
      "text/plain": [
       "(45053, 26286)"
      ]
     },
     "execution_count": 2,
     "metadata": {},
     "output_type": "execute_result"
    }
   ],
   "source": [
    "# You need to provide the code to answer the previous quesiton\n",
    "# (you should also briefly explain your data structure -- \n",
    "# where do you put your data and how you get your data)\n",
    "import pandas as pd\n",
    "import numpy as np\n",
    "from pandasql import sqldf\n",
    "\n",
    "df_listings=pd.read_csv(\"listings.csv\")\n",
    "df_reviews=pd.read_csv(\"reviews.csv\")\n",
    "df_calendar=pd.read_csv(\"calendar.csv\")\n",
    "(len(df_listings.id),len(df_listings.host_id.unique()))"
   ]
  },
  {
   "cell_type": "code",
   "execution_count": 34,
   "metadata": {},
   "outputs": [
    {
     "data": {
      "text/plain": [
       "(45053, 106)"
      ]
     },
     "execution_count": 34,
     "metadata": {},
     "output_type": "execute_result"
    }
   ],
   "source": [
    "df_listings.shape\n",
    "#The listings dataframe has 106 columns which represents the attributes and other information about the house, \n",
    "#and it also has 45053 rows which represents 45053 houses which are located in LA and are listed on Uber during \n",
    "#a specific time."
   ]
  },
  {
   "cell_type": "code",
   "execution_count": 35,
   "metadata": {},
   "outputs": [
    {
     "data": {
      "text/plain": [
       "(1509564, 6)"
      ]
     },
     "execution_count": 35,
     "metadata": {},
     "output_type": "execute_result"
    }
   ],
   "source": [
    "df_reviews.shape\n",
    "#The reviews dataframe has 6 columns which represents the attributes of the reviews of listinfs and also \n",
    "#has a 'id' column which can be linked to the 'listing id' column in the listing dataframe. The reviews \n",
    "#dataframe also has 1509564 rows which represents the listings that has been recorded by Uber during a \n",
    "#specific time."
   ]
  },
  {
   "cell_type": "code",
   "execution_count": 36,
   "metadata": {},
   "outputs": [
    {
     "data": {
      "text/plain": [
       "(16444345, 8)"
      ]
     },
     "execution_count": 36,
     "metadata": {},
     "output_type": "execute_result"
    }
   ],
   "source": [
    "df_calendar.shape\n",
    "#The calendar dataframe has 7 columns which represents the attributes of the calendar and also has a 'id' column \n",
    "#which can be linked to the 'listing id' column in the listing dataframe. The calendar dataframe also has \n",
    "#16444345 rows which represents the listings that has been recorded by Uber during a specific time.\n",
    "\n",
    "#We put the data at the same location of the ipynb, and we found the data from website: insidearibnb.com."
   ]
  },
  {
   "cell_type": "markdown",
   "metadata": {},
   "source": [
    "### Question 2: What is the mean, median, standard deviation, minimum and maximum of the number of listings per host in LA? (for each host, you only need to consider the listings from LA)\n",
    "**Question 2 Answer:**\n",
    "\n",
    "1. Mean of the number of listings per host in LA is 1.713954\n",
    "2. Median of the number of listings per host in LA is 1\n",
    "3. Standard deviation of the number of listings per host in LA is 2.999183\n",
    "4. Minimum of the number of listings per host in LA is 1\n",
    "5. Maximum of the number of listings per host in LA is 172"
   ]
  },
  {
   "cell_type": "code",
   "execution_count": 17,
   "metadata": {},
   "outputs": [
    {
     "data": {
      "text/plain": [
       "count    26286.000000\n",
       "mean         1.713954\n",
       "std          2.999183\n",
       "min          1.000000\n",
       "25%          1.000000\n",
       "50%          1.000000\n",
       "75%          1.000000\n",
       "max        172.000000\n",
       "Name: id, dtype: float64"
      ]
     },
     "execution_count": 17,
     "metadata": {},
     "output_type": "execute_result"
    }
   ],
   "source": [
    "# You need to provide the code to answer the previous quesiton\n",
    "#lph stands for list per host\n",
    "df_lph=df_listings.groupby(by=[\"host_id\"]).agg({\"id\":\"count\"})\n",
    "df_lph.id.describe()\n",
    "#mean:1.713954, median:1, standard deviation:2.999183, minimum:1, maximum:172"
   ]
  },
  {
   "cell_type": "markdown",
   "metadata": {},
   "source": [
    "### Question 3: What is the average and standard deviation number of listings for a super host versus a non-super host? Does super host or non-super host have more listings on average?\n",
    "**Question 3 Answer:**\n",
    "\n",
    "1. The average and standart deviation number of listing for a super host is 2.926276 and 3.177892\n",
    "2. The average and standart deviation number of listing for a non-super host 1.671021 and 1.824264\n",
    "3. Non-super hosts have more listings."
   ]
  },
  {
   "cell_type": "code",
   "execution_count": 18,
   "metadata": {},
   "outputs": [
    {
     "data": {
      "text/html": [
       "<div>\n",
       "<style scoped>\n",
       "    .dataframe tbody tr th:only-of-type {\n",
       "        vertical-align: middle;\n",
       "    }\n",
       "\n",
       "    .dataframe tbody tr th {\n",
       "        vertical-align: top;\n",
       "    }\n",
       "\n",
       "    .dataframe thead th {\n",
       "        text-align: right;\n",
       "    }\n",
       "</style>\n",
       "<table border=\"1\" class=\"dataframe\">\n",
       "  <thead>\n",
       "    <tr style=\"text-align: right;\">\n",
       "      <th></th>\n",
       "      <th>total</th>\n",
       "    </tr>\n",
       "    <tr>\n",
       "      <th>host_is_superhost</th>\n",
       "      <th></th>\n",
       "    </tr>\n",
       "  </thead>\n",
       "  <tbody>\n",
       "    <tr>\n",
       "      <th>f</th>\n",
       "      <td>2.926276</td>\n",
       "    </tr>\n",
       "    <tr>\n",
       "      <th>t</th>\n",
       "      <td>3.177892</td>\n",
       "    </tr>\n",
       "  </tbody>\n",
       "</table>\n",
       "</div>"
      ],
      "text/plain": [
       "                      total\n",
       "host_is_superhost          \n",
       "f                  2.926276\n",
       "t                  3.177892"
      ]
     },
     "execution_count": 18,
     "metadata": {},
     "output_type": "execute_result"
    }
   ],
   "source": [
    "# You need to provide the code to answer the previous quesiton\n",
    "df_listings[\"host_is_superhost\"].unique() #f and t\n",
    "df1=sqldf(\"select host_id,host_is_superhost,count(id) as total\\\n",
    "           from df_listings\\\n",
    "           group by host_id\") #add number of listings of each host\n",
    "del df1[\"host_id\"] #delete host_id column\n",
    "\n",
    "df1.groupby(by=[\"host_is_superhost\"]).agg({\"total\":np.std})"
   ]
  },
  {
   "cell_type": "code",
   "execution_count": 20,
   "metadata": {},
   "outputs": [
    {
     "data": {
      "text/html": [
       "<div>\n",
       "<style scoped>\n",
       "    .dataframe tbody tr th:only-of-type {\n",
       "        vertical-align: middle;\n",
       "    }\n",
       "\n",
       "    .dataframe tbody tr th {\n",
       "        vertical-align: top;\n",
       "    }\n",
       "\n",
       "    .dataframe thead th {\n",
       "        text-align: right;\n",
       "    }\n",
       "</style>\n",
       "<table border=\"1\" class=\"dataframe\">\n",
       "  <thead>\n",
       "    <tr style=\"text-align: right;\">\n",
       "      <th></th>\n",
       "      <th>total</th>\n",
       "    </tr>\n",
       "    <tr>\n",
       "      <th>host_is_superhost</th>\n",
       "      <th></th>\n",
       "    </tr>\n",
       "  </thead>\n",
       "  <tbody>\n",
       "    <tr>\n",
       "      <th>f</th>\n",
       "      <td>1.671021</td>\n",
       "    </tr>\n",
       "    <tr>\n",
       "      <th>t</th>\n",
       "      <td>1.824264</td>\n",
       "    </tr>\n",
       "  </tbody>\n",
       "</table>\n",
       "</div>"
      ],
      "text/plain": [
       "                      total\n",
       "host_is_superhost          \n",
       "f                  1.671021\n",
       "t                  1.824264"
      ]
     },
     "execution_count": 20,
     "metadata": {},
     "output_type": "execute_result"
    }
   ],
   "source": [
    "df1.groupby(by=[\"host_is_superhost\"]).agg({\"total\":np.mean})"
   ]
  },
  {
   "cell_type": "markdown",
   "metadata": {},
   "source": [
    "### Question 4: What are the unique types of host verifications are there? (It doesn't matter if you include \"None\" or empty string as a type)\n",
    "**Question 4 Answer:**\n",
    "\n",
    "(You need to write your answer in this markdown cell)"
   ]
  },
  {
   "cell_type": "code",
   "execution_count": 22,
   "metadata": {
    "scrolled": true
   },
   "outputs": [
    {
     "data": {
      "text/plain": [
       "22"
      ]
     },
     "execution_count": 22,
     "metadata": {},
     "output_type": "execute_result"
    }
   ],
   "source": [
    "# You need to provide the code to answer the previous quesitondf_listings[\"host_verifications\"].unique() \n",
    "unique = []\n",
    "for i in (df_listings['host_verifications']):\n",
    "    alltypes = i.strip('[').strip(']').strip(' ').split(', ')\n",
    "    for j in alltypes:\n",
    "        all_types = j.strip(' ').strip('\\'')\n",
    "        if j not in unique:\n",
    "            unique.append(j)\n",
    "len(unique)\n"
   ]
  },
  {
   "cell_type": "markdown",
   "metadata": {},
   "source": [
    "### Question 5: What are the five most popular verification types of hosts? For each type of the top five verifications, how many percent of hosts verify that type?\n",
    "**Question 5 Answer:**\n",
    "\n",
    "Five most popular verification types: phone(99.68%), email(93,84%), reviews(68.85%), government_id(58.77%), jumio(43.34%)"
   ]
  },
  {
   "cell_type": "code",
   "execution_count": 28,
   "metadata": {},
   "outputs": [
    {
     "data": {
      "text/html": [
       "<div>\n",
       "<style scoped>\n",
       "    .dataframe tbody tr th:only-of-type {\n",
       "        vertical-align: middle;\n",
       "    }\n",
       "\n",
       "    .dataframe tbody tr th {\n",
       "        vertical-align: top;\n",
       "    }\n",
       "\n",
       "    .dataframe thead th {\n",
       "        text-align: right;\n",
       "    }\n",
       "</style>\n",
       "<table border=\"1\" class=\"dataframe\">\n",
       "  <thead>\n",
       "    <tr style=\"text-align: right;\">\n",
       "      <th></th>\n",
       "      <th>Verification</th>\n",
       "      <th>Amount</th>\n",
       "      <th>Percentage</th>\n",
       "    </tr>\n",
       "  </thead>\n",
       "  <tbody>\n",
       "    <tr>\n",
       "      <th>0</th>\n",
       "      <td>'phone'</td>\n",
       "      <td>26201</td>\n",
       "      <td>99.68%</td>\n",
       "    </tr>\n",
       "    <tr>\n",
       "      <th>1</th>\n",
       "      <td>'email'</td>\n",
       "      <td>24666</td>\n",
       "      <td>93.84%</td>\n",
       "    </tr>\n",
       "    <tr>\n",
       "      <th>2</th>\n",
       "      <td>'reviews'</td>\n",
       "      <td>18099</td>\n",
       "      <td>68.85%</td>\n",
       "    </tr>\n",
       "    <tr>\n",
       "      <th>3</th>\n",
       "      <td>'government_id'</td>\n",
       "      <td>15448</td>\n",
       "      <td>58.77%</td>\n",
       "    </tr>\n",
       "    <tr>\n",
       "      <th>4</th>\n",
       "      <td>'jumio'</td>\n",
       "      <td>11392</td>\n",
       "      <td>43.34%</td>\n",
       "    </tr>\n",
       "  </tbody>\n",
       "</table>\n",
       "</div>"
      ],
      "text/plain": [
       "      Verification  Amount Percentage\n",
       "0          'phone'   26201     99.68%\n",
       "1          'email'   24666     93.84%\n",
       "2        'reviews'   18099     68.85%\n",
       "3  'government_id'   15448     58.77%\n",
       "4          'jumio'   11392     43.34%"
      ]
     },
     "execution_count": 28,
     "metadata": {},
     "output_type": "execute_result"
    }
   ],
   "source": [
    "df_5=sqldf(\"select distinct host_id, host_verifications from df_listings\")\n",
    "hvtype = {}\n",
    "for i in (df_5['host_verifications']):\n",
    "    alltypes = i.strip('[').strip(']').strip(' ').split(', ')\n",
    "    for j in alltypes:\n",
    "        all_types = j.strip(' ').strip('\\'')\n",
    "        if j not in hvtype:\n",
    "            hvtype[j] = 1\n",
    "        else:\n",
    "            hvtype[j] += 1\n",
    "hvtype_keys = [i for i in hvtype.keys()]\n",
    "hvtype_values = [i for i in hvtype.values()]\n",
    "df_Q5 = pd.DataFrame(columns = ['Verification','Amount'])\n",
    "df_Q5['Verification'] = hvtype_keys\n",
    "df_Q5['Amount'] = hvtype_values            \n",
    "            \n",
    "df_Q5['Percentage'] = df_Q5['Amount'].apply(lambda x:\"{:.2%}\".format(x/26286))            \n",
    "df_Q5answer = sqldf('SELECT Verification,Amount,Percentage FROM df_Q5 ORDER BY AMOUNT DESC LIMIT 5')\n",
    "df_Q5answer.head()            "
   ]
  },
  {
   "cell_type": "markdown",
   "metadata": {},
   "source": [
    "### Question 6: What is the mean, standard deviation of the average price of a listing in Los Angles from 01/01/2020 to 03/01/2020 (inclusive)? (For listings that are not available in this time, you should not count them in the average price.)\n",
    "\n",
    "**Question 6 Answer:**\n",
    "\n",
    "1. The mean of the average price of a listing in Los Angles from 01/01/2020 to 03/01/2020 is 216.9089123196462.\n",
    "2. The standard deviation of the average price of a listing in Los Angles from 01/01/2020 to 03/01/2020 is 576.4146779077948."
   ]
  },
  {
   "cell_type": "code",
   "execution_count": 4,
   "metadata": {},
   "outputs": [],
   "source": [
    "#transform price->float\n",
    "df_calendar[\"new_price\"]=df_calendar[df_calendar.columns[3]].replace('[\\$,]','',regex=True).astype(float)\n",
    "#transform date to datetime type\n",
    "df_calendar[\"date\"]=pd.to_datetime(df_calendar[\"date\"])"
   ]
  },
  {
   "cell_type": "code",
   "execution_count": 33,
   "metadata": {},
   "outputs": [
    {
     "data": {
      "text/plain": [
       "(254.77822712824755, 684.7550498988392)"
      ]
     },
     "execution_count": 33,
     "metadata": {},
     "output_type": "execute_result"
    }
   ],
   "source": [
    "mask = (df_calendar['date'] >= '2020-1-1') & (df_calendar['date'] <= \"2020-3-1\")\n",
    "df_date=df_calendar.loc[mask] #filter the date\n",
    "df_date=df_date.loc[df_date.available==\"t\",]\n",
    "df1=df_date.groupby(by=[\"listing_id\"]).agg({\"new_price\":np.mean})\n",
    "(df1.new_price.mean(),df1.new_price.std())"
   ]
  },
  {
   "cell_type": "markdown",
   "metadata": {},
   "source": [
    "### Question 7: For reviews that are written in Jan, 2016, what are the most popular ten words except stopping words? What about reviews written in March, 2017 and April, 2018?\n",
    "**Hint**: You need to use NTLK stopping words to find the stopping words in Python. You also need to remove punctuation and numbers\n",
    "\n",
    "**Question 7 Answer:**\n",
    "Jan 2016: 'great', 'stay', 'place', 'location', 'clean', 'house', 'us', 'nice', 'would', 'host'\\\n",
    "March 2017: 'great', 'place', 'stay', 'location', 'clean', 'nice', 'would', 'host', 'house', 'comfortable'\\\n",
    "April 2018: 'great', 'place', 'stay', 'location', 'clean', 'would', 'host', 'nice', 'la', 'house'"
   ]
  },
  {
   "cell_type": "code",
   "execution_count": 2,
   "metadata": {},
   "outputs": [],
   "source": [
    "import string\n",
    "from nltk.corpus import stopwords \n",
    "from nltk.tokenize import word_tokenize\n",
    "\n",
    "stop_words = set(stopwords.words('english'))\n",
    "def word_count(row,year,month,counts):\n",
    "    if row['date'].split('-')[0] == year and row['date'].split('-')[1] == month:\n",
    "        comment =  str(row['comments']).replace(\"’\",\"\").translate(str.maketrans('','',string.punctuation))\\\n",
    "                   .translate(str.maketrans('','','1234567890'))\n",
    "        word_tokens = word_tokenize(comment.lower()) \n",
    "        filtered_sentence = [w for w in word_tokens if not w in stop_words]\n",
    "        for word in filtered_sentence:\n",
    "            if word in counts.keys():\n",
    "                counts[word] += 1\n",
    "            else:\n",
    "                counts[word] = 1\n",
    "    return counts\n",
    "   "
   ]
  },
  {
   "cell_type": "code",
   "execution_count": 58,
   "metadata": {},
   "outputs": [
    {
     "data": {
      "text/plain": [
       "Index(['great', 'stay', 'place', 'location', 'clean', 'house', 'us', 'nice',\n",
       "       'would', 'host'],\n",
       "      dtype='object')"
      ]
     },
     "execution_count": 58,
     "metadata": {},
     "output_type": "execute_result"
    }
   ],
   "source": [
    "count= df_reviews.apply(word_count,args=('2016','01',{}),axis=1)  \n",
    "df_counts = pd.DataFrame.from_dict(count[0],orient='index')\n",
    "top_201601 = df_counts.sort_values(by=[0],ascending = False).head(10)\n",
    "top_201601.index"
   ]
  },
  {
   "cell_type": "code",
   "execution_count": 3,
   "metadata": {},
   "outputs": [
    {
     "data": {
      "text/plain": [
       "Index(['great', 'place', 'stay', 'location', 'clean', 'nice', 'would', 'host',\n",
       "       'house', 'comfortable'],\n",
       "      dtype='object')"
      ]
     },
     "execution_count": 3,
     "metadata": {},
     "output_type": "execute_result"
    }
   ],
   "source": [
    "count = df_reviews.apply(word_count,args=('2017','03',{}),axis=1)  \n",
    "df_counts = pd.DataFrame.from_dict(count[0],orient='index')\n",
    "top_201703 = df_counts.sort_values(by=[0],ascending = False).head(10)\n",
    "top_201703.index"
   ]
  },
  {
   "cell_type": "code",
   "execution_count": 4,
   "metadata": {},
   "outputs": [
    {
     "data": {
      "text/plain": [
       "Index(['great', 'place', 'stay', 'location', 'clean', 'would', 'host', 'nice',\n",
       "       'la', 'house'],\n",
       "      dtype='object')"
      ]
     },
     "execution_count": 4,
     "metadata": {},
     "output_type": "execute_result"
    }
   ],
   "source": [
    "count = df_reviews.apply(word_count,args=('2018','04',{}),axis=1)  \n",
    "df_counts = pd.DataFrame.from_dict(count[0],orient='index')\n",
    "top_201804 = df_counts.sort_values(by=[0],ascending = False).head(10)\n",
    "top_201804.index"
   ]
  },
  {
   "cell_type": "markdown",
   "metadata": {},
   "source": [
    "### Question 8: Which five zipcode has the highest average listing price and has at least 30 listings (again only considering available dates) between 2020-01-01 to 2020-02-01 (inclusive)? What are these listing prices? What are the number of active listings and number of hosts in these top five zipcodes (a listing is active if it has at least one available date in the calendar data)?\n",
    "\n",
    "**Question 8 Answer:**\n",
    "\n",
    "1. The five zipcode has the highest average listing price and has at least 30 listings are 90210, 90077, 93063, 90265, and 90069. \n",
    "2. And the price is 1963.557367, 1909.066130, 1567.562500, 1559.605010, and 998.113153.\n",
    "3. The number of active listings and number of hosts of 90210 is 8402 and 173.\n",
    "The number of active listings and number of hosts of 90077 is 2238 and 48.\n",
    "The number of active listings and number of hosts of 93063 is 64 and 1.\n",
    "The number of active listings and number of hosts of 90265 is 9861 and 221\n",
    "The number of active listings and number of hosts of 90069 is 12461\tand 305"
   ]
  },
  {
   "cell_type": "code",
   "execution_count": 54,
   "metadata": {},
   "outputs": [
    {
     "name": "stderr",
     "output_type": "stream",
     "text": [
      "//anaconda3/lib/python3.7/site-packages/ipykernel_launcher.py:5: SettingWithCopyWarning: \n",
      "A value is trying to be set on a copy of a slice from a DataFrame.\n",
      "Try using .loc[row_indexer,col_indexer] = value instead\n",
      "\n",
      "See the caveats in the documentation: http://pandas.pydata.org/pandas-docs/stable/indexing.html#indexing-view-versus-copy\n",
      "  \"\"\"\n"
     ]
    }
   ],
   "source": [
    "# You need to provide the code to answer the previous quesiton\n",
    "mask = (df_calendar['date'] >= '2020-1-1') & (df_calendar['date'] <= \"2020-2-1\")\n",
    "df_1=df_calendar.loc[mask] #filter date\n",
    "df_2=df_1.loc[df_1.available==\"t\",] #filter available\n",
    "\n",
    "df_zipcode=df_2.merge(df_listings,how=\"left\",left_on=\"listing_id\",right_on=\"id\")"
   ]
  },
  {
   "cell_type": "code",
   "execution_count": 55,
   "metadata": {},
   "outputs": [
    {
     "data": {
      "text/html": [
       "<div>\n",
       "<style scoped>\n",
       "    .dataframe tbody tr th:only-of-type {\n",
       "        vertical-align: middle;\n",
       "    }\n",
       "\n",
       "    .dataframe tbody tr th {\n",
       "        vertical-align: top;\n",
       "    }\n",
       "\n",
       "    .dataframe thead th {\n",
       "        text-align: right;\n",
       "    }\n",
       "</style>\n",
       "<table border=\"1\" class=\"dataframe\">\n",
       "  <thead>\n",
       "    <tr style=\"text-align: right;\">\n",
       "      <th></th>\n",
       "      <th>listing_id</th>\n",
       "      <th>date</th>\n",
       "      <th>available</th>\n",
       "      <th>price</th>\n",
       "      <th>adjusted_price</th>\n",
       "      <th>minimum_nights_x</th>\n",
       "      <th>maximum_nights_x</th>\n",
       "      <th>new_price</th>\n",
       "      <th>id</th>\n",
       "      <th>listing_url</th>\n",
       "      <th>...</th>\n",
       "      <th>instant_bookable</th>\n",
       "      <th>is_business_travel_ready</th>\n",
       "      <th>cancellation_policy</th>\n",
       "      <th>require_guest_profile_picture</th>\n",
       "      <th>require_guest_phone_verification</th>\n",
       "      <th>calculated_host_listings_count</th>\n",
       "      <th>calculated_host_listings_count_entire_homes</th>\n",
       "      <th>calculated_host_listings_count_private_rooms</th>\n",
       "      <th>calculated_host_listings_count_shared_rooms</th>\n",
       "      <th>reviews_per_month</th>\n",
       "    </tr>\n",
       "  </thead>\n",
       "  <tbody>\n",
       "    <tr>\n",
       "      <th>0</th>\n",
       "      <td>107970</td>\n",
       "      <td>2020-01-01</td>\n",
       "      <td>t</td>\n",
       "      <td>$77.00</td>\n",
       "      <td>$77.00</td>\n",
       "      <td>1</td>\n",
       "      <td>9</td>\n",
       "      <td>77.0</td>\n",
       "      <td>107970</td>\n",
       "      <td>https://www.airbnb.com/rooms/107970</td>\n",
       "      <td>...</td>\n",
       "      <td>f</td>\n",
       "      <td>f</td>\n",
       "      <td>strict_14_with_grace_period</td>\n",
       "      <td>f</td>\n",
       "      <td>f</td>\n",
       "      <td>1</td>\n",
       "      <td>1</td>\n",
       "      <td>0</td>\n",
       "      <td>0</td>\n",
       "      <td>6.53</td>\n",
       "    </tr>\n",
       "    <tr>\n",
       "      <th>1</th>\n",
       "      <td>107970</td>\n",
       "      <td>2020-01-02</td>\n",
       "      <td>t</td>\n",
       "      <td>$79.00</td>\n",
       "      <td>$79.00</td>\n",
       "      <td>1</td>\n",
       "      <td>9</td>\n",
       "      <td>79.0</td>\n",
       "      <td>107970</td>\n",
       "      <td>https://www.airbnb.com/rooms/107970</td>\n",
       "      <td>...</td>\n",
       "      <td>f</td>\n",
       "      <td>f</td>\n",
       "      <td>strict_14_with_grace_period</td>\n",
       "      <td>f</td>\n",
       "      <td>f</td>\n",
       "      <td>1</td>\n",
       "      <td>1</td>\n",
       "      <td>0</td>\n",
       "      <td>0</td>\n",
       "      <td>6.53</td>\n",
       "    </tr>\n",
       "    <tr>\n",
       "      <th>2</th>\n",
       "      <td>107970</td>\n",
       "      <td>2020-01-03</td>\n",
       "      <td>t</td>\n",
       "      <td>$77.00</td>\n",
       "      <td>$77.00</td>\n",
       "      <td>1</td>\n",
       "      <td>9</td>\n",
       "      <td>77.0</td>\n",
       "      <td>107970</td>\n",
       "      <td>https://www.airbnb.com/rooms/107970</td>\n",
       "      <td>...</td>\n",
       "      <td>f</td>\n",
       "      <td>f</td>\n",
       "      <td>strict_14_with_grace_period</td>\n",
       "      <td>f</td>\n",
       "      <td>f</td>\n",
       "      <td>1</td>\n",
       "      <td>1</td>\n",
       "      <td>0</td>\n",
       "      <td>0</td>\n",
       "      <td>6.53</td>\n",
       "    </tr>\n",
       "    <tr>\n",
       "      <th>3</th>\n",
       "      <td>107970</td>\n",
       "      <td>2020-01-04</td>\n",
       "      <td>t</td>\n",
       "      <td>$75.00</td>\n",
       "      <td>$75.00</td>\n",
       "      <td>1</td>\n",
       "      <td>9</td>\n",
       "      <td>75.0</td>\n",
       "      <td>107970</td>\n",
       "      <td>https://www.airbnb.com/rooms/107970</td>\n",
       "      <td>...</td>\n",
       "      <td>f</td>\n",
       "      <td>f</td>\n",
       "      <td>strict_14_with_grace_period</td>\n",
       "      <td>f</td>\n",
       "      <td>f</td>\n",
       "      <td>1</td>\n",
       "      <td>1</td>\n",
       "      <td>0</td>\n",
       "      <td>0</td>\n",
       "      <td>6.53</td>\n",
       "    </tr>\n",
       "    <tr>\n",
       "      <th>4</th>\n",
       "      <td>107970</td>\n",
       "      <td>2020-01-05</td>\n",
       "      <td>t</td>\n",
       "      <td>$68.00</td>\n",
       "      <td>$68.00</td>\n",
       "      <td>1</td>\n",
       "      <td>9</td>\n",
       "      <td>68.0</td>\n",
       "      <td>107970</td>\n",
       "      <td>https://www.airbnb.com/rooms/107970</td>\n",
       "      <td>...</td>\n",
       "      <td>f</td>\n",
       "      <td>f</td>\n",
       "      <td>strict_14_with_grace_period</td>\n",
       "      <td>f</td>\n",
       "      <td>f</td>\n",
       "      <td>1</td>\n",
       "      <td>1</td>\n",
       "      <td>0</td>\n",
       "      <td>0</td>\n",
       "      <td>6.53</td>\n",
       "    </tr>\n",
       "  </tbody>\n",
       "</table>\n",
       "<p>5 rows × 113 columns</p>\n",
       "</div>"
      ],
      "text/plain": [
       "   listing_id       date available   price adjusted_price  minimum_nights_x  \\\n",
       "0      107970 2020-01-01         t  $77.00         $77.00                 1   \n",
       "1      107970 2020-01-02         t  $79.00         $79.00                 1   \n",
       "2      107970 2020-01-03         t  $77.00         $77.00                 1   \n",
       "3      107970 2020-01-04         t  $75.00         $75.00                 1   \n",
       "4      107970 2020-01-05         t  $68.00         $68.00                 1   \n",
       "\n",
       "   maximum_nights_x  new_price      id                          listing_url  \\\n",
       "0                 9       77.0  107970  https://www.airbnb.com/rooms/107970   \n",
       "1                 9       79.0  107970  https://www.airbnb.com/rooms/107970   \n",
       "2                 9       77.0  107970  https://www.airbnb.com/rooms/107970   \n",
       "3                 9       75.0  107970  https://www.airbnb.com/rooms/107970   \n",
       "4                 9       68.0  107970  https://www.airbnb.com/rooms/107970   \n",
       "\n",
       "   ...  instant_bookable is_business_travel_ready  \\\n",
       "0  ...                 f                        f   \n",
       "1  ...                 f                        f   \n",
       "2  ...                 f                        f   \n",
       "3  ...                 f                        f   \n",
       "4  ...                 f                        f   \n",
       "\n",
       "           cancellation_policy require_guest_profile_picture  \\\n",
       "0  strict_14_with_grace_period                             f   \n",
       "1  strict_14_with_grace_period                             f   \n",
       "2  strict_14_with_grace_period                             f   \n",
       "3  strict_14_with_grace_period                             f   \n",
       "4  strict_14_with_grace_period                             f   \n",
       "\n",
       "  require_guest_phone_verification calculated_host_listings_count  \\\n",
       "0                                f                              1   \n",
       "1                                f                              1   \n",
       "2                                f                              1   \n",
       "3                                f                              1   \n",
       "4                                f                              1   \n",
       "\n",
       "  calculated_host_listings_count_entire_homes  \\\n",
       "0                                           1   \n",
       "1                                           1   \n",
       "2                                           1   \n",
       "3                                           1   \n",
       "4                                           1   \n",
       "\n",
       "  calculated_host_listings_count_private_rooms  \\\n",
       "0                                            0   \n",
       "1                                            0   \n",
       "2                                            0   \n",
       "3                                            0   \n",
       "4                                            0   \n",
       "\n",
       "  calculated_host_listings_count_shared_rooms reviews_per_month  \n",
       "0                                           0              6.53  \n",
       "1                                           0              6.53  \n",
       "2                                           0              6.53  \n",
       "3                                           0              6.53  \n",
       "4                                           0              6.53  \n",
       "\n",
       "[5 rows x 113 columns]"
      ]
     },
     "execution_count": 55,
     "metadata": {},
     "output_type": "execute_result"
    }
   ],
   "source": [
    "df_zipcode.head()#check"
   ]
  },
  {
   "cell_type": "code",
   "execution_count": 56,
   "metadata": {},
   "outputs": [
    {
     "data": {
      "text/html": [
       "<div>\n",
       "<style scoped>\n",
       "    .dataframe tbody tr th:only-of-type {\n",
       "        vertical-align: middle;\n",
       "    }\n",
       "\n",
       "    .dataframe tbody tr th {\n",
       "        vertical-align: top;\n",
       "    }\n",
       "\n",
       "    .dataframe thead th {\n",
       "        text-align: right;\n",
       "    }\n",
       "</style>\n",
       "<table border=\"1\" class=\"dataframe\">\n",
       "  <thead>\n",
       "    <tr style=\"text-align: right;\">\n",
       "      <th></th>\n",
       "      <th>zipcode</th>\n",
       "      <th>avg(new_price)</th>\n",
       "      <th>n_listings</th>\n",
       "      <th>n_host</th>\n",
       "    </tr>\n",
       "  </thead>\n",
       "  <tbody>\n",
       "    <tr>\n",
       "      <th>0</th>\n",
       "      <td>90210</td>\n",
       "      <td>1963.557367</td>\n",
       "      <td>8402</td>\n",
       "      <td>173</td>\n",
       "    </tr>\n",
       "    <tr>\n",
       "      <th>1</th>\n",
       "      <td>90077</td>\n",
       "      <td>1909.066130</td>\n",
       "      <td>2238</td>\n",
       "      <td>48</td>\n",
       "    </tr>\n",
       "    <tr>\n",
       "      <th>2</th>\n",
       "      <td>93063</td>\n",
       "      <td>1567.562500</td>\n",
       "      <td>64</td>\n",
       "      <td>1</td>\n",
       "    </tr>\n",
       "    <tr>\n",
       "      <th>3</th>\n",
       "      <td>90265</td>\n",
       "      <td>1559.605010</td>\n",
       "      <td>9861</td>\n",
       "      <td>221</td>\n",
       "    </tr>\n",
       "    <tr>\n",
       "      <th>4</th>\n",
       "      <td>90069</td>\n",
       "      <td>998.113153</td>\n",
       "      <td>12461</td>\n",
       "      <td>305</td>\n",
       "    </tr>\n",
       "  </tbody>\n",
       "</table>\n",
       "</div>"
      ],
      "text/plain": [
       "  zipcode  avg(new_price)  n_listings  n_host\n",
       "0   90210     1963.557367        8402     173\n",
       "1   90077     1909.066130        2238      48\n",
       "2   93063     1567.562500          64       1\n",
       "3   90265     1559.605010        9861     221\n",
       "4   90069      998.113153       12461     305"
      ]
     },
     "execution_count": 56,
     "metadata": {},
     "output_type": "execute_result"
    }
   ],
   "source": [
    "df_result=sqldf(\"select zipcode, avg(new_price), count(id) as n_listings, count(distinct host_id) as n_host\\\n",
    "                 from df_zipcode\\\n",
    "                 group by zipcode\\\n",
    "                 having count(id) >= 30\\\n",
    "                 order by avg(new_price) desc limit 5\")\n",
    "df_result"
   ]
  },
  {
   "cell_type": "markdown",
   "metadata": {},
   "source": [
    "### Question 9: Focusing on the data from 2020-01-01 to 2020-04-01 (inclusive), what are five zipcodes that have at least 30 listings and have the largest absolute difference between the average prices on weekends versus the average prices on weekdays? (Weekends = Saturday and Sunday). Please give the zipcodes as well as the listing prices\n",
    "**Question 9 Answer:**\n",
    "\n",
    "The five zipcodes have at least 30 listings and have the largest absolute difference between the average prices on weekends versus the average prices on weekdays are 90265, 90046, 90034, 90803, and 90069."
   ]
  },
  {
   "cell_type": "code",
   "execution_count": 3,
   "metadata": {},
   "outputs": [],
   "source": [
    "df_Q9_calendar=df_calendar.filter(['date', 'available', 'listing_id',\"new_price\"],axis=1)"
   ]
  },
  {
   "cell_type": "code",
   "execution_count": 4,
   "metadata": {
    "scrolled": true
   },
   "outputs": [
    {
     "name": "stderr",
     "output_type": "stream",
     "text": [
      "C:\\ProgramData\\Anaconda3\\lib\\site-packages\\ipykernel_launcher.py:3: FutureWarning: `weekday_name` is deprecated and will be removed in a future version. Use `day_name` instead\n",
      "  This is separate from the ipykernel package so we can avoid doing imports until\n",
      "C:\\ProgramData\\Anaconda3\\lib\\site-packages\\ipykernel_launcher.py:3: SettingWithCopyWarning: \n",
      "A value is trying to be set on a copy of a slice from a DataFrame.\n",
      "Try using .loc[row_indexer,col_indexer] = value instead\n",
      "\n",
      "See the caveats in the documentation: http://pandas.pydata.org/pandas-docs/stable/indexing.html#indexing-view-versus-copy\n",
      "  This is separate from the ipykernel package so we can avoid doing imports until\n"
     ]
    }
   ],
   "source": [
    "mask = (df_calendar['date'] >= '2020-1-1') & (df_calendar['date'] <= \"2020-4-1\")\n",
    "df1=df_calendar.loc[mask]\n",
    "df1[\"weektime\"]=df1[\"date\"].apply(lambda x: x.weekday_name)"
   ]
  },
  {
   "cell_type": "code",
   "execution_count": 5,
   "metadata": {},
   "outputs": [],
   "source": [
    "df_zipcode1=df1.merge(df_listings,how=\"left\",left_on=\"listing_id\",right_on=\"id\")\n",
    "#add new column \"weektime\"——weekend/weekday\n",
    "df_zipcode1[\"weektime\"]=df_zipcode1[\"weektime\"].apply(lambda x: \"weekday\" \\\n",
    "                                                      if x ==\"Monday\" or x==\"Tuesday\" or x==\"Wednesday\" or x==\"Thursday\" or x==\"Friday\" \\\n",
    "                                                      else ( \"weekend\" if x==\"Saturday\" or x==\"Sunday\" else NA)) #一定要写else才能跑出来？太不智能了吧！\n"
   ]
  },
  {
   "cell_type": "code",
   "execution_count": 6,
   "metadata": {},
   "outputs": [],
   "source": [
    "df_result_weekday=sqldf(\"select zipcode, weektime, count(distinct id) as n_listings, avg(new_price) as avg_D\\\n",
    "                  from df_zipcode1\\\n",
    "                  where weektime='weekday'\\\n",
    "                  group by zipcode\\\n",
    "                  having count(distinct id)>=30\")"
   ]
  },
  {
   "cell_type": "code",
   "execution_count": 7,
   "metadata": {},
   "outputs": [],
   "source": [
    "df_result_weekend=sqldf(\"select zipcode,weektime,count(distinct id) as n_listings, avg(new_price ) as avg_E\\\n",
    "                         from df_zipcode1\\\n",
    "                         where weektime= 'weekend'\\\n",
    "                         group by zipcode\\\n",
    "                         having count(distinct id)>=30\")"
   ]
  },
  {
   "cell_type": "code",
   "execution_count": 8,
   "metadata": {},
   "outputs": [],
   "source": [
    "df_result=df_result_weekday.merge(df_result_weekend,how=\"inner\",on=\"zipcode\")"
   ]
  },
  {
   "cell_type": "code",
   "execution_count": 9,
   "metadata": {},
   "outputs": [
    {
     "data": {
      "text/html": [
       "<div>\n",
       "<style scoped>\n",
       "    .dataframe tbody tr th:only-of-type {\n",
       "        vertical-align: middle;\n",
       "    }\n",
       "\n",
       "    .dataframe tbody tr th {\n",
       "        vertical-align: top;\n",
       "    }\n",
       "\n",
       "    .dataframe thead th {\n",
       "        text-align: right;\n",
       "    }\n",
       "</style>\n",
       "<table border=\"1\" class=\"dataframe\">\n",
       "  <thead>\n",
       "    <tr style=\"text-align: right;\">\n",
       "      <th></th>\n",
       "      <th>zipcode</th>\n",
       "      <th>weektime_x</th>\n",
       "      <th>n_listings_x</th>\n",
       "      <th>avg_D</th>\n",
       "      <th>weektime_y</th>\n",
       "      <th>n_listings_y</th>\n",
       "      <th>avg_E</th>\n",
       "      <th>abs_diff</th>\n",
       "    </tr>\n",
       "  </thead>\n",
       "  <tbody>\n",
       "    <tr>\n",
       "      <th>19</th>\n",
       "      <td>90265</td>\n",
       "      <td>weekday</td>\n",
       "      <td>40</td>\n",
       "      <td>1007.405682</td>\n",
       "      <td>weekend</td>\n",
       "      <td>40</td>\n",
       "      <td>1023.432692</td>\n",
       "      <td>16.027010</td>\n",
       "    </tr>\n",
       "    <tr>\n",
       "      <th>13</th>\n",
       "      <td>90046</td>\n",
       "      <td>weekday</td>\n",
       "      <td>137</td>\n",
       "      <td>273.761004</td>\n",
       "      <td>weekend</td>\n",
       "      <td>137</td>\n",
       "      <td>281.310500</td>\n",
       "      <td>7.549496</td>\n",
       "    </tr>\n",
       "    <tr>\n",
       "      <th>7</th>\n",
       "      <td>90034</td>\n",
       "      <td>weekday</td>\n",
       "      <td>35</td>\n",
       "      <td>126.011255</td>\n",
       "      <td>weekend</td>\n",
       "      <td>35</td>\n",
       "      <td>131.267033</td>\n",
       "      <td>5.255778</td>\n",
       "    </tr>\n",
       "    <tr>\n",
       "      <th>25</th>\n",
       "      <td>90803</td>\n",
       "      <td>weekday</td>\n",
       "      <td>30</td>\n",
       "      <td>190.286364</td>\n",
       "      <td>weekend</td>\n",
       "      <td>30</td>\n",
       "      <td>195.038462</td>\n",
       "      <td>4.752098</td>\n",
       "    </tr>\n",
       "    <tr>\n",
       "      <th>18</th>\n",
       "      <td>90069</td>\n",
       "      <td>weekday</td>\n",
       "      <td>44</td>\n",
       "      <td>292.161157</td>\n",
       "      <td>weekend</td>\n",
       "      <td>44</td>\n",
       "      <td>295.509615</td>\n",
       "      <td>3.348458</td>\n",
       "    </tr>\n",
       "  </tbody>\n",
       "</table>\n",
       "</div>"
      ],
      "text/plain": [
       "   zipcode weektime_x  n_listings_x        avg_D weektime_y  n_listings_y  \\\n",
       "19   90265    weekday            40  1007.405682    weekend            40   \n",
       "13   90046    weekday           137   273.761004    weekend           137   \n",
       "7    90034    weekday            35   126.011255    weekend            35   \n",
       "25   90803    weekday            30   190.286364    weekend            30   \n",
       "18   90069    weekday            44   292.161157    weekend            44   \n",
       "\n",
       "          avg_E   abs_diff  \n",
       "19  1023.432692  16.027010  \n",
       "13   281.310500   7.549496  \n",
       "7    131.267033   5.255778  \n",
       "25   195.038462   4.752098  \n",
       "18   295.509615   3.348458  "
      ]
     },
     "execution_count": 9,
     "metadata": {},
     "output_type": "execute_result"
    }
   ],
   "source": [
    "df_result[\"abs_diff\"]=abs(df_result[\"avg_E\"]-df_result[\"avg_D\"]) \n",
    "df_result.sort_values(by=[\"abs_diff\"],ascending=False).head(5) "
   ]
  },
  {
   "cell_type": "markdown",
   "metadata": {},
   "source": [
    "### Question 10: What is the average and standard deviation of the daily total capacity at Airbnb Los Angeles from 2020-01-01 to 2020-04-01? The daily total capacity in a day is the number of beds that are available in that given date. What is the average and standard deviation of the daily price per bed at Airbnb Los Angeles from 2020-01-01 to 2020-04-01?\n",
    "**Question 10 Answer:**\n",
    "\n",
    "1. The average and standard deviation of the daily total capacity at Airbnb Los Angeles from 2020-01-01 to 2020-04-01 are 46995.22826086957 and 4980.64131556945 seperately. \n",
    "2. The average and standard deviation of the daily price per bed at Airbnb Los Angeles from 2020-01-01 to 2020-04-01 are 124.11388367676463, 5.626010989539933"
   ]
  },
  {
   "cell_type": "code",
   "execution_count": 17,
   "metadata": {},
   "outputs": [
    {
     "data": {
      "text/html": [
       "<div>\n",
       "<style scoped>\n",
       "    .dataframe tbody tr th:only-of-type {\n",
       "        vertical-align: middle;\n",
       "    }\n",
       "\n",
       "    .dataframe tbody tr th {\n",
       "        vertical-align: top;\n",
       "    }\n",
       "\n",
       "    .dataframe thead th {\n",
       "        text-align: right;\n",
       "    }\n",
       "</style>\n",
       "<table border=\"1\" class=\"dataframe\">\n",
       "  <thead>\n",
       "    <tr style=\"text-align: right;\">\n",
       "      <th></th>\n",
       "      <th>id</th>\n",
       "      <th>beds</th>\n",
       "    </tr>\n",
       "  </thead>\n",
       "  <tbody>\n",
       "    <tr>\n",
       "      <th>0</th>\n",
       "      <td>109</td>\n",
       "      <td>3.0</td>\n",
       "    </tr>\n",
       "    <tr>\n",
       "      <th>1</th>\n",
       "      <td>344</td>\n",
       "      <td>3.0</td>\n",
       "    </tr>\n",
       "    <tr>\n",
       "      <th>2</th>\n",
       "      <td>2708</td>\n",
       "      <td>1.0</td>\n",
       "    </tr>\n",
       "    <tr>\n",
       "      <th>3</th>\n",
       "      <td>2732</td>\n",
       "      <td>1.0</td>\n",
       "    </tr>\n",
       "    <tr>\n",
       "      <th>4</th>\n",
       "      <td>2864</td>\n",
       "      <td>1.0</td>\n",
       "    </tr>\n",
       "  </tbody>\n",
       "</table>\n",
       "</div>"
      ],
      "text/plain": [
       "     id  beds\n",
       "0   109   3.0\n",
       "1   344   3.0\n",
       "2  2708   1.0\n",
       "3  2732   1.0\n",
       "4  2864   1.0"
      ]
     },
     "execution_count": 17,
     "metadata": {},
     "output_type": "execute_result"
    }
   ],
   "source": [
    "df_Q10_calendar=df_calendar.filter(['date', 'available', 'listing_id',\"new_price\"],axis=1)\n",
    "df_Q10_listings=df_listings.filter([\"id\",\"beds\"])"
   ]
  },
  {
   "cell_type": "code",
   "execution_count": 18,
   "metadata": {},
   "outputs": [
    {
     "data": {
      "text/html": [
       "<div>\n",
       "<style scoped>\n",
       "    .dataframe tbody tr th:only-of-type {\n",
       "        vertical-align: middle;\n",
       "    }\n",
       "\n",
       "    .dataframe tbody tr th {\n",
       "        vertical-align: top;\n",
       "    }\n",
       "\n",
       "    .dataframe thead th {\n",
       "        text-align: right;\n",
       "    }\n",
       "</style>\n",
       "<table border=\"1\" class=\"dataframe\">\n",
       "  <thead>\n",
       "    <tr style=\"text-align: right;\">\n",
       "      <th></th>\n",
       "      <th>sum(beds)</th>\n",
       "      <th>sum(new_price)</th>\n",
       "      <th>ppb</th>\n",
       "      <th>date</th>\n",
       "    </tr>\n",
       "  </thead>\n",
       "  <tbody>\n",
       "    <tr>\n",
       "      <th>0</th>\n",
       "      <td>44519.0</td>\n",
       "      <td>6440037.0</td>\n",
       "      <td>144.658168</td>\n",
       "      <td>2020-01-01 00:00:00.000000</td>\n",
       "    </tr>\n",
       "    <tr>\n",
       "      <th>1</th>\n",
       "      <td>46206.0</td>\n",
       "      <td>6372372.0</td>\n",
       "      <td>137.912219</td>\n",
       "      <td>2020-01-02 00:00:00.000000</td>\n",
       "    </tr>\n",
       "    <tr>\n",
       "      <th>2</th>\n",
       "      <td>47415.0</td>\n",
       "      <td>6553989.0</td>\n",
       "      <td>138.226068</td>\n",
       "      <td>2020-01-03 00:00:00.000000</td>\n",
       "    </tr>\n",
       "    <tr>\n",
       "      <th>3</th>\n",
       "      <td>48256.0</td>\n",
       "      <td>6552515.0</td>\n",
       "      <td>135.786534</td>\n",
       "      <td>2020-01-04 00:00:00.000000</td>\n",
       "    </tr>\n",
       "    <tr>\n",
       "      <th>4</th>\n",
       "      <td>48660.0</td>\n",
       "      <td>6246612.0</td>\n",
       "      <td>128.372626</td>\n",
       "      <td>2020-01-05 00:00:00.000000</td>\n",
       "    </tr>\n",
       "  </tbody>\n",
       "</table>\n",
       "</div>"
      ],
      "text/plain": [
       "   sum(beds)  sum(new_price)         ppb                        date\n",
       "0    44519.0       6440037.0  144.658168  2020-01-01 00:00:00.000000\n",
       "1    46206.0       6372372.0  137.912219  2020-01-02 00:00:00.000000\n",
       "2    47415.0       6553989.0  138.226068  2020-01-03 00:00:00.000000\n",
       "3    48256.0       6552515.0  135.786534  2020-01-04 00:00:00.000000\n",
       "4    48660.0       6246612.0  128.372626  2020-01-05 00:00:00.000000"
      ]
     },
     "execution_count": 18,
     "metadata": {},
     "output_type": "execute_result"
    }
   ],
   "source": [
    "mask = (df_Q10_calendar['date'] >= '2020-1-1') & (df_Q10_calendar['date'] <= \"2020-4-1\")\n",
    "df1=df_Q10_calendar.loc[mask] #filter the date\n",
    "df2 = df1.loc[df1.available == 't',]\n",
    "df3 = df2.merge(df_Q10_listings, how = 'left', left_on = 'listing_id',right_on = 'id')\n",
    "df_q10 = sqldf('SELECT sum(beds),sum(new_price),(sum(new_price)/sum(beds))as ppb, date FROM df3 GROUP BY date')\n",
    "df_q10.head()\n"
   ]
  },
  {
   "cell_type": "code",
   "execution_count": 21,
   "metadata": {},
   "outputs": [
    {
     "data": {
      "text/plain": [
       "(46995.22826086957, 4980.64131556945, 124.11388367676463, 5.626010989539933)"
      ]
     },
     "execution_count": 21,
     "metadata": {},
     "output_type": "execute_result"
    }
   ],
   "source": [
    "# You need to provide the code to answer the previous quesiton\n",
    "(df_q10[\"sum(beds)\"].mean(),df_q10[\"sum(beds)\"].std(), df_q10.ppb.mean(),df_q10.ppb.std())"
   ]
  },
  {
   "cell_type": "markdown",
   "metadata": {},
   "source": [
    "## Part 2 (15 Points):\n",
    "\n",
    "In this part, you need to find **5** interesting business questions out of the datasets. You then need to write Python code to answer the questions. Last, you need to write a 200-word summary of your answers and business insights you get from ansewr these 5 questions baed on your code. You will be evaluated based on the following criterion:\n",
    "\n",
    "1. You need to ask three business-relevant questions (2 points)\n",
    "2. You need to answer these three questions using Python and the datasets (1 points)\n",
    "3. You have at least **5** graphs to visualize your insights (2 points)\n",
    "4. Your executive summary of your answers are well-written and make sense (5 points)\n",
    "5. Your business insights are very interesting and the report is creative (5 points)\n"
   ]
  },
  {
   "cell_type": "markdown",
   "metadata": {},
   "source": [
    "**(You need to use this cell to write your 5 questions)**\n",
    "\n",
    "**Question 1:**\n",
    "Please find the best 5 neighbourhoods based on total listing and average price at Airbnb Los Angeles from 2020-01-01 to 2020-04-01. \n",
    "\n",
    "**Question 2:**\n",
    "For each host, Which listing has the highest review score with at least 50 reviews at Airbnb Los Angeles from 2020-01-01 to 2020-04-01?\n",
    "\n",
    "**Question 3:**\n",
    "What type of house is the most popular at Airbnb? You should consider the number of bedrooms and bathrooms.\n",
    "\n",
    "**Question 4:**\n",
    "What kind of host is the highest scored at Airbnb?I You may need'host has profile pic'and 'host_identity_verified'.\n",
    "\n",
    "**Question 5:**\n",
    "Among all houses, which facility is most common?"
   ]
  },
  {
   "cell_type": "code",
   "execution_count": null,
   "metadata": {},
   "outputs": [],
   "source": [
    "# Your code to answer Question 1\n",
    "df_q11=mask = (df_calendar['date'] >= '2020-1-1') & (df_calendar['date'] <= \"2020-4-1\")\n",
    "df11=df_calendar.loc[mask]\n",
    "df_neigh=df11.merge(df_listings,how=\"left\",left_on=\"listing_id\",right_on=\"id\")\n",
    "df_q11_output = sqldf(\"select host_neighbourhood, count(id), avg(new_price) from df_neigh group by host_neighbourhood\\\n",
    "        order by count(id) desc, avg(new_price) asc limit 5\")"
   ]
  },
  {
   "cell_type": "code",
   "execution_count": null,
   "metadata": {},
   "outputs": [],
   "source": [
    "df_q11_output.head().plot(kind = \"bar\", x = \"host_neighbourhood\", y = \"count(id)\")"
   ]
  },
  {
   "cell_type": "code",
   "execution_count": null,
   "metadata": {},
   "outputs": [],
   "source": [
    "# Your code to answer Question 2\n",
    "df_q12=mask = (df_calendar['date'] >= '2020-1-1') & (df_calendar['date'] <= \"2020-4-1\")\n",
    "df12=df_calendar.loc[mask]\n",
    "number_of_review=50\n",
    "df_score=df12.merge(df_listings,how=\"left\",left_on=\"listing_id\",right_on=\"id\")\n",
    "df_q12_output = sqldf(\"select review_scores_rating,host_id,listing_id from df_score where number_of_reviews > %s \\\n",
    "    group by host_id order by review_scores_rating desc limit 1\" %number_of_review )"
   ]
  },
  {
   "cell_type": "code",
   "execution_count": null,
   "metadata": {},
   "outputs": [],
   "source": [
    "df_q12_output.head().plot(kind = \"bar\", x = \"host_neighbourhood\", y = \"count(id)\")"
   ]
  },
  {
   "cell_type": "code",
   "execution_count": 30,
   "metadata": {},
   "outputs": [
    {
     "data": {
      "text/html": [
       "<div>\n",
       "<style scoped>\n",
       "    .dataframe tbody tr th:only-of-type {\n",
       "        vertical-align: middle;\n",
       "    }\n",
       "\n",
       "    .dataframe tbody tr th {\n",
       "        vertical-align: top;\n",
       "    }\n",
       "\n",
       "    .dataframe thead th {\n",
       "        text-align: right;\n",
       "    }\n",
       "</style>\n",
       "<table border=\"1\" class=\"dataframe\">\n",
       "  <thead>\n",
       "    <tr style=\"text-align: right;\">\n",
       "      <th></th>\n",
       "      <th>popular</th>\n",
       "      <th>bedrooms</th>\n",
       "      <th>bathrooms</th>\n",
       "      <th>type</th>\n",
       "    </tr>\n",
       "  </thead>\n",
       "  <tbody>\n",
       "    <tr>\n",
       "      <th>0</th>\n",
       "      <td>22023</td>\n",
       "      <td>1.0</td>\n",
       "      <td>1.0</td>\n",
       "      <td>bed1.0 bath1.0</td>\n",
       "    </tr>\n",
       "    <tr>\n",
       "      <th>1</th>\n",
       "      <td>4677</td>\n",
       "      <td>0.0</td>\n",
       "      <td>1.0</td>\n",
       "      <td>bed0.0 bath1.0</td>\n",
       "    </tr>\n",
       "    <tr>\n",
       "      <th>2</th>\n",
       "      <td>3710</td>\n",
       "      <td>2.0</td>\n",
       "      <td>2.0</td>\n",
       "      <td>bed2.0 bath2.0</td>\n",
       "    </tr>\n",
       "    <tr>\n",
       "      <th>3</th>\n",
       "      <td>3174</td>\n",
       "      <td>2.0</td>\n",
       "      <td>1.0</td>\n",
       "      <td>bed2.0 bath1.0</td>\n",
       "    </tr>\n",
       "    <tr>\n",
       "      <th>4</th>\n",
       "      <td>1980</td>\n",
       "      <td>1.0</td>\n",
       "      <td>1.5</td>\n",
       "      <td>bed1.0 bath1.5</td>\n",
       "    </tr>\n",
       "    <tr>\n",
       "      <th>5</th>\n",
       "      <td>1687</td>\n",
       "      <td>3.0</td>\n",
       "      <td>2.0</td>\n",
       "      <td>bed3.0 bath2.0</td>\n",
       "    </tr>\n",
       "    <tr>\n",
       "      <th>6</th>\n",
       "      <td>1168</td>\n",
       "      <td>1.0</td>\n",
       "      <td>2.0</td>\n",
       "      <td>bed1.0 bath2.0</td>\n",
       "    </tr>\n",
       "    <tr>\n",
       "      <th>7</th>\n",
       "      <td>562</td>\n",
       "      <td>2.0</td>\n",
       "      <td>1.5</td>\n",
       "      <td>bed2.0 bath1.5</td>\n",
       "    </tr>\n",
       "    <tr>\n",
       "      <th>8</th>\n",
       "      <td>551</td>\n",
       "      <td>3.0</td>\n",
       "      <td>2.5</td>\n",
       "      <td>bed3.0 bath2.5</td>\n",
       "    </tr>\n",
       "    <tr>\n",
       "      <th>9</th>\n",
       "      <td>525</td>\n",
       "      <td>3.0</td>\n",
       "      <td>3.0</td>\n",
       "      <td>bed3.0 bath3.0</td>\n",
       "    </tr>\n",
       "  </tbody>\n",
       "</table>\n",
       "</div>"
      ],
      "text/plain": [
       "   popular  bedrooms  bathrooms            type\n",
       "0    22023       1.0        1.0  bed1.0 bath1.0\n",
       "1     4677       0.0        1.0  bed0.0 bath1.0\n",
       "2     3710       2.0        2.0  bed2.0 bath2.0\n",
       "3     3174       2.0        1.0  bed2.0 bath1.0\n",
       "4     1980       1.0        1.5  bed1.0 bath1.5\n",
       "5     1687       3.0        2.0  bed3.0 bath2.0\n",
       "6     1168       1.0        2.0  bed1.0 bath2.0\n",
       "7      562       2.0        1.5  bed2.0 bath1.5\n",
       "8      551       3.0        2.5  bed3.0 bath2.5\n",
       "9      525       3.0        3.0  bed3.0 bath3.0"
      ]
     },
     "execution_count": 30,
     "metadata": {},
     "output_type": "execute_result"
    }
   ],
   "source": [
    "# Your code to answer Question 3\n",
    "\n",
    "df_Q13 = sqldf('SELECT count(id) as popular ,bedrooms, bathrooms \\\n",
    "               FROM df_listings group by bedrooms, bathrooms ORDER BY popular DESC')\n",
    "df_Q13['type'] = 'bed'+df_Q13['bedrooms'].map(str)+' bath'+df_Q13['bathrooms'].map(str)\n",
    "df_Q13.head(10)"
   ]
  },
  {
   "cell_type": "code",
   "execution_count": 31,
   "metadata": {},
   "outputs": [
    {
     "data": {
      "text/plain": [
       "<matplotlib.axes._subplots.AxesSubplot at 0x13816d390>"
      ]
     },
     "execution_count": 31,
     "metadata": {},
     "output_type": "execute_result"
    },
    {
     "data": {
      "image/png": "[encoded data removed]",
      "text/plain": [
       "<Figure size 432x288 with 1 Axes>"
      ]
     },
     "metadata": {
      "needs_background": "light"
     },
     "output_type": "display_data"
    }
   ],
   "source": [
    "import matplotlib.pyplot as plt\n",
    "fig,ax = plt.subplots() \n",
    "\n",
    "df_Q13.head(10).plot(kind = 'barh', y = \"popular\", x= \"type\", ax= ax)"
   ]
  },
  {
   "cell_type": "code",
   "execution_count": null,
   "metadata": {},
   "outputs": [],
   "source": []
  },
  {
   "cell_type": "code",
   "execution_count": 39,
   "metadata": {},
   "outputs": [
    {
     "data": {
      "text/html": [
       "<div>\n",
       "<style scoped>\n",
       "    .dataframe tbody tr th:only-of-type {\n",
       "        vertical-align: middle;\n",
       "    }\n",
       "\n",
       "    .dataframe tbody tr th {\n",
       "        vertical-align: top;\n",
       "    }\n",
       "\n",
       "    .dataframe thead th {\n",
       "        text-align: right;\n",
       "    }\n",
       "</style>\n",
       "<table border=\"1\" class=\"dataframe\">\n",
       "  <thead>\n",
       "    <tr style=\"text-align: right;\">\n",
       "      <th></th>\n",
       "      <th>avg(review_scores_rating)</th>\n",
       "      <th>host_has_profile_pic</th>\n",
       "      <th>host_identity_verified</th>\n",
       "    </tr>\n",
       "  </thead>\n",
       "  <tbody>\n",
       "    <tr>\n",
       "      <th>0</th>\n",
       "      <td>91.250000</td>\n",
       "      <td>None</td>\n",
       "      <td>None</td>\n",
       "    </tr>\n",
       "    <tr>\n",
       "      <th>1</th>\n",
       "      <td>92.617647</td>\n",
       "      <td>f</td>\n",
       "      <td>f</td>\n",
       "    </tr>\n",
       "    <tr>\n",
       "      <th>2</th>\n",
       "      <td>98.500000</td>\n",
       "      <td>f</td>\n",
       "      <td>t</td>\n",
       "    </tr>\n",
       "    <tr>\n",
       "      <th>3</th>\n",
       "      <td>93.823131</td>\n",
       "      <td>t</td>\n",
       "      <td>f</td>\n",
       "    </tr>\n",
       "    <tr>\n",
       "      <th>4</th>\n",
       "      <td>94.744039</td>\n",
       "      <td>t</td>\n",
       "      <td>t</td>\n",
       "    </tr>\n",
       "  </tbody>\n",
       "</table>\n",
       "</div>"
      ],
      "text/plain": [
       "   avg(review_scores_rating) host_has_profile_pic host_identity_verified\n",
       "0                  91.250000                 None                   None\n",
       "1                  92.617647                    f                      f\n",
       "2                  98.500000                    f                      t\n",
       "3                  93.823131                    t                      f\n",
       "4                  94.744039                    t                      t"
      ]
     },
     "execution_count": 39,
     "metadata": {},
     "output_type": "execute_result"
    }
   ],
   "source": [
    "# Your code to answer Question 4\n",
    "\n",
    "\n",
    "\n",
    "df_Q14 = sqldf('SELECT avg(review_scores_rating),host_has_profile_pic,host_identity_verified from df_listings group by host_has_profile_pic,host_identity_verified')\n",
    "df_Q14"
   ]
  },
  {
   "cell_type": "code",
   "execution_count": 38,
   "metadata": {},
   "outputs": [
    {
     "data": {
      "text/plain": [
       "<matplotlib.axes._subplots.AxesSubplot at 0x12d72b240>"
      ]
     },
     "execution_count": 38,
     "metadata": {},
     "output_type": "execute_result"
    },
    {
     "data": {
      "image/png": "[encoded data removed]",
      "text/plain": [
       "<Figure size 432x288 with 1 Axes>"
      ]
     },
     "metadata": {
      "needs_background": "light"
     },
     "output_type": "display_data"
    }
   ],
   "source": [
    "df_Q14['type'] = 'pic '+df_Q14['host_has_profile_pic'].map(str)+' verified '+df_Q14['host_identity_verified'].map(str)\n",
    "                                                                                    \n",
    "df_Q14.plot(kind = 'barh', y = \"avg(review_scores_rating)\", x= \"type\")                                                                            "
   ]
  },
  {
   "cell_type": "code",
   "execution_count": null,
   "metadata": {},
   "outputs": [],
   "source": [
    "# Your code to answer Question 5\n",
    "alltypes = []\n",
    "atype = {}\n",
    "for i in (df_listings['amenities']):\n",
    "    alltypes+=i.strip('{').strip('}').split(',')\n",
    "    for j in alltypes:\n",
    "        if j not in atype:\n",
    "            atype[j] = 1\n",
    "        else:\n",
    "            atype[j] += 1\n",
    "\n",
    "\n",
    "atype_keys = [i for i in atype.keys()]\n",
    "atype_values = [i for i in atype.values()]\n",
    "df_Q15 = pd.DataFrame(columns = ['amenities','Amount'])\n",
    "df_Q15['amenities'] = atype_keys\n",
    "df_Q15['Amount'] = atype_values\n"
   ]
  },
  {
   "cell_type": "code",
   "execution_count": null,
   "metadata": {},
   "outputs": [],
   "source": [
    "\n",
    "sum = df_Q15['Amount'].sum()\n",
    "df_Q15['Percentage'] = df_Q15['Amount'].apply(lambda x:\"{:.2%}\".format(x/sum))\n",
    "\n",
    "df_Q15answer = sqldf('SELECT amenities,Amount,Percentage FROM df_Q15 ORDER BY AMOUNT DESC LIMIT 5')\n",
    "df_Q15answer.head()"
   ]
  },
  {
   "cell_type": "code",
   "execution_count": null,
   "metadata": {},
   "outputs": [],
   "source": [
    "df_Q15.plot(kind = 'barh', y = \"Amount\", x= \"amenities\")   "
   ]
  },
  {
   "cell_type": "markdown",
   "metadata": {},
   "source": [
    "## Executive Summary\n",
    "For question 1, we think an excellent way to evaluate a host’ neighborhood is to have a higher total listing and lower average price. And our result finds that there is a huge between the best host neighborhood and the second one, let it alone the other host neighborhoods. So we think this neighborhood should decrease their price, this increasing the booking ratio. \n",
    "\n",
    "For question 2, we define the most popular listing as the one with highest review score. To be cautious, we exclude listing less than 50 reviews. And we find the most popular listing successfully.\n",
    "\n",
    "For question 3, we classify the houses listed on Uber by dividing the number of bedrooms and bathrooms. According to the research, we can see that the One Bedroom One Bathroom is the most popular type. In order to illustrate, we pick the top 10 types of house. We can see that these popular type have no more than 3 bedrooms and 3 bathrooms. In the future, we will encourage more houses with one bedroom and one bathroom to be listed.\n",
    "\n",
    "For question 4, we presumed that the hosts who have the most sufficient profile will have the highest score, but the reality seems that this is not the case. Hosts who have verified their profile and do not have a picture on their profile has the highest score. In order to help hosts’ houses to gain popularity, we may encourage the hosts not to use their personal picture on the profile.\n",
    "\n",
    "For question 5, we get the conclusion that the most important amenity is WIFI, so we will encourage the houses without WIFI to get one in order to make sure the house will not lose customer for the reason that there is no WIFI.\n"
   ]
  }
 ],
 "metadata": {
  "kernelspec": {
   "display_name": "Python 3",
   "language": "python",
   "name": "python3"
  },
  "language_info": {
   "codemirror_mode": {
    "name": "ipython",
    "version": 3
   },
   "file_extension": ".py",
   "mimetype": "text/x-python",
   "name": "python",
   "nbconvert_exporter": "python",
   "pygments_lexer": "ipython3",
   "version": "3.7.3"
  }
 },
 "nbformat": 4,
 "nbformat_minor": 4
}
